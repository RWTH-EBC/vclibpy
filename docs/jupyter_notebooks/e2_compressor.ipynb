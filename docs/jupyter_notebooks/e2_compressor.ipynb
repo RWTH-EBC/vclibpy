{
    "cells": [
        {
            "cell_type": "markdown",
            "metadata": {},
            "source": "# Compressor Example\nThis example demonstrates how to use the classes `Compressor`,\nand its children.\n"
        },
        {
            "cell_type": "markdown",
            "metadata": {},
            "source": "First, let's import an exemplary compressor from vclibpy's\n`compressor` package:\n"
        },
        {
            "cell_type": "code",
            "execution_count": null,
            "metadata": {},
            "outputs": [],
            "source": "from vclibpy.components.compressors import ConstantEffectivenessCompressor\n"
        },
        {
            "cell_type": "markdown",
            "metadata": {},
            "source": "The `ConstantEffectivenessCompressor` uses constant efficiencies to model the compressor.\nCheck out the documentation to see relevant parameters:\n"
        },
        {
            "cell_type": "code",
            "execution_count": null,
            "metadata": {},
            "outputs": [],
            "source": "help(ConstantEffectivenessCompressor)\n"
        },
        {
            "cell_type": "markdown",
            "metadata": {},
            "source": "Let's specify some dummy parameters:\n"
        },
        {
            "cell_type": "code",
            "execution_count": null,
            "metadata": {},
            "outputs": [],
            "source": "constant_efficiency_compressor = ConstantEffectivenessCompressor(\n    N_max=120,\n    V_h=19e-6,\n    eta_isentropic=0.7,\n    eta_mech=0.95*0.95*0.95,\n    lambda_h=0.9\n)\n"
        },
        {
            "cell_type": "markdown",
            "metadata": {},
            "source": "Before we can do any calculations, the compressor needs\naccess to refrigerant data. Each component in VcLibPy has\nthe property med_prop (media property) which you can set like this:\n"
        },
        {
            "cell_type": "code",
            "execution_count": null,
            "metadata": {},
            "outputs": [],
            "source": "from vclibpy.media import CoolProp\nmed_prop = CoolProp(fluid_name=\"Propane\")\nconstant_efficiency_compressor.med_prop = med_prop\n"
        },
        {
            "cell_type": "markdown",
            "metadata": {},
            "source": "Now, you have to define the input state of the compressor.\nEach component has inlet and outlet states, which are, same as `med_prop`\nproperties of the component.\nWe assume a super-heated vapor at 1bar as an input state:\n"
        },
        {
            "cell_type": "code",
            "execution_count": null,
            "metadata": {},
            "outputs": [],
            "source": "p_inlet = 1e5\nT_superheat = med_prop.calc_state(\"PQ\", p_inlet, 1).T + 10\nconstant_efficiency_compressor.state_inlet = med_prop.calc_state(\"PT\", p_inlet, T_superheat)\n"
        },
        {
            "cell_type": "markdown",
            "metadata": {},
            "source": "Last but not least, most functions in VcLibPy require\nthe argument `inputs` and `fs_state`. The whole concept of the two\nclasses are explained in the third example. For now, we just instantiate\nthe classes and pass a relative compressor speed of 50 % (0.5) as an input.\n"
        },
        {
            "cell_type": "code",
            "execution_count": null,
            "metadata": {},
            "outputs": [],
            "source": "from vclibpy import FlowsheetState, Inputs, RelativeCompressorSpeedControl\nfs_state = FlowsheetState()\ninputs = Inputs(control=RelativeCompressorSpeedControl(n=0.5))\n"
        },
        {
            "cell_type": "markdown",
            "metadata": {},
            "source": "Now, we can calculate multiple things.\n### Outlet state\nWhile the constant efficiency compressor does not rely on any\nstates to calculate the constant efficiencies, most other models do.\nThus, we first want to calculate the outlet state for the given input state.\nWe can do so by passing an outlet pressure to the function `calc_state_outlet`:\n"
        },
        {
            "cell_type": "code",
            "execution_count": null,
            "metadata": {},
            "outputs": [],
            "source": "p_outlet = 6e5\nprint(f\"{constant_efficiency_compressor.state_outlet=}\")  # still None\nconstant_efficiency_compressor.calc_state_outlet(p_outlet=p_outlet, inputs=inputs, fs_state=fs_state)\nprint(f\"{constant_efficiency_compressor.state_outlet=}\")  # now calculated\n"
        },
        {
            "cell_type": "markdown",
            "metadata": {},
            "source": "Also, relevant results are automatically added to the `fs_state`:\n"
        },
        {
            "cell_type": "code",
            "execution_count": null,
            "metadata": {},
            "outputs": [],
            "source": "print(fs_state)\n"
        },
        {
            "cell_type": "markdown",
            "metadata": {},
            "source": "You can play around with the compressor speed (which has no effect due to constant efficiencies)\nor the compression ratio. Let's do the latter for the outlet temperature:\n"
        },
        {
            "cell_type": "code",
            "execution_count": null,
            "metadata": {},
            "outputs": [],
            "source": "import numpy as np\nratios = np.arange(2, 10, 0.5)\nT_outlets = []\nfor ratio in ratios:\n    constant_efficiency_compressor.calc_state_outlet(\n        p_outlet=p_inlet * ratio, inputs=inputs, fs_state=fs_state\n    )\n    T_outlets.append(constant_efficiency_compressor.state_outlet.T)\n"
        },
        {
            "cell_type": "markdown",
            "metadata": {},
            "source": "Let's plot the results:\n"
        },
        {
            "cell_type": "code",
            "execution_count": null,
            "metadata": {},
            "outputs": [],
            "source": "import matplotlib.pyplot as plt\nplt.plot(ratios, np.array(T_outlets) - 273.15)\nplt.ylabel(\"$T_\\mathrm{Outlet}$ in °C\")\nplt.xlabel(\"$\\Pi$ in -\")\nplt.show()\n"
        },
        {
            "cell_type": "markdown",
            "metadata": {},
            "source": "### Mass flow rate\nNow, let's continue with the mass flow rate. Again, each component has the property\n`m_flow`, which always refers to the refrigerant mass flow rate.\nThe function `calc_m_flow` calculates and set's the mass flow rate to this property.\n"
        },
        {
            "cell_type": "code",
            "execution_count": null,
            "metadata": {},
            "outputs": [],
            "source": "m_flow = constant_efficiency_compressor.calc_m_flow(inputs=inputs, fs_state=fs_state)\nprint(f\"{m_flow=}, {constant_efficiency_compressor.m_flow=}\")\n"
        },
        {
            "cell_type": "markdown",
            "metadata": {},
            "source": "Again, some interesting results are automatically added to the `fs_state`:\n"
        },
        {
            "cell_type": "code",
            "execution_count": null,
            "metadata": {},
            "outputs": [],
            "source": "print(fs_state)\n"
        },
        {
            "cell_type": "markdown",
            "metadata": {},
            "source": "Now, we can check how the compressor will work for different compressor speeds:\n"
        },
        {
            "cell_type": "code",
            "execution_count": null,
            "metadata": {},
            "outputs": [],
            "source": "m_flows = []\nspeeds = np.arange(0, 1, 0.1)\nfor speed in speeds:\n    m_flows.append(constant_efficiency_compressor.calc_m_flow(\n        inputs=Inputs(RelativeCompressorSpeedControl(n=speed)),\n        fs_state=fs_state\n    ))\n"
        },
        {
            "cell_type": "markdown",
            "metadata": {},
            "source": "Let's plot the results:\n"
        },
        {
            "cell_type": "code",
            "execution_count": null,
            "metadata": {},
            "outputs": [],
            "source": "import matplotlib.pyplot as plt\nplt.plot(speeds, m_flows)\nplt.ylabel(\"$\\dot{m}$ in kg/s\")\nplt.xlabel(\"$n$ in -\")\nplt.show()\n"
        },
        {
            "cell_type": "markdown",
            "metadata": {},
            "source": "### Electrical power consumption\nIf mass flow rates and outlet states are calculated, we can calculate the\nelectrical power consumption of the compressor. Note, that\nif you change input values here, you first have to calculate the\nmass flow rate and outlet state again, as this may influence the result.\n"
        },
        {
            "cell_type": "code",
            "execution_count": null,
            "metadata": {},
            "outputs": [],
            "source": "constant_efficiency_compressor.calc_m_flow(inputs=inputs, fs_state=fs_state)\nconstant_efficiency_compressor.calc_state_outlet(p_outlet=p_outlet, inputs=inputs, fs_state=fs_state)\nP_el = constant_efficiency_compressor.calc_electrical_power(inputs=inputs, fs_state=fs_state)\nprint(f\"{P_el=}\")\n"
        },
        {
            "cell_type": "markdown",
            "metadata": {},
            "source": "Again, important metrics are added to the fs_state:\n"
        },
        {
            "cell_type": "code",
            "execution_count": null,
            "metadata": {},
            "outputs": [],
            "source": "print(fs_state)\n"
        },
        {
            "cell_type": "markdown",
            "metadata": {},
            "source": "After learning the basics of each component and using `Inputs` and `FlowsheetState`\nfor the first time, we will go deeper into these classes in the third example.\nYou can alter the compressor in use by importing other compressors, such as\n`RotaryCompressor` or `TenCoefficientCompressor`. Check if you can use these components as well.\n"
        },
        {
            "cell_type": "code",
            "execution_count": null,
            "metadata": {},
            "outputs": [],
            "source": "from vclibpy.components.compressors import RotaryCompressor, TenCoefficientCompressor\nhelp(RotaryCompressor)\nhelp(TenCoefficientCompressor)\n"
        }
    ],
    "metadata": {
        "kernelspec": {
            "display_name": "Python 3",
            "language": "python",
            "name": "python3"
        },
        "language_info": {
            "codemirror_mode": {
                "name": "ipython",
                "version": 3
            },
            "file_extension": ".py",
            "mimetype": "text/x-python",
            "name": "python",
            "nbconvert_exporter": "python",
            "pygments_lexer": "ipython3",
            "version": "3.6.4"
        }
    },
    "nbformat": 4,
    "nbformat_minor": 2
}