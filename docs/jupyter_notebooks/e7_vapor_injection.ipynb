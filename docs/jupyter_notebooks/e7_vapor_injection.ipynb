{
    "cells": [
        {
            "cell_type": "markdown",
            "metadata": {},
            "source": "# Example for a heat pump with vapor injection using a phase separator\n"
        },
        {
            "cell_type": "markdown",
            "metadata": {},
            "source": "Let's use a flowsheet which is more complex, e.g. the vapor injection\nwith a phase seperator.\nWe can import this flowsheet and how to use it like this:\n"
        },
        {
            "cell_type": "code",
            "execution_count": null,
            "metadata": {},
            "outputs": [],
            "source": "from vclibpy.flowsheets import VaporInjectionPhaseSeparator\nhelp(VaporInjectionPhaseSeparator)\n"
        },
        {
            "cell_type": "markdown",
            "metadata": {},
            "source": "As it needs the same heat exchanger model as a standard heat pump,\nwe will just use the ones from the standard cycle. Also, as\nthe expansion valve model does not influence the results for\nthe current algorithm, we will just use the same expansion-valve\ntwice. Note, that you could size the two expansion valves\nusing vclibpy, including off-design, but this is one for another\nexample.\n"
        },
        {
            "cell_type": "code",
            "execution_count": null,
            "metadata": {},
            "outputs": [],
            "source": "from vclibpy.components.heat_exchangers import moving_boundary_ntu\nfrom vclibpy.components.heat_exchangers import heat_transfer\ncondenser = moving_boundary_ntu.MovingBoundaryNTUCondenser(\n    A=5,\n    secondary_medium=\"water\",\n    flow_type=\"counter\",\n    ratio_outer_to_inner_area=1,\n    two_phase_heat_transfer=heat_transfer.constant.ConstantTwoPhaseHeatTransfer(alpha=5000),\n    gas_heat_transfer=heat_transfer.constant.ConstantHeatTransfer(alpha=5000),\n    wall_heat_transfer=heat_transfer.wall.WallTransfer(lambda_=236, thickness=2e-3),\n    liquid_heat_transfer=heat_transfer.constant.ConstantHeatTransfer(alpha=5000),\n    secondary_heat_transfer=heat_transfer.constant.ConstantHeatTransfer(alpha=5000)\n)\nevaporator = moving_boundary_ntu.MovingBoundaryNTUEvaporator(\n    A=15,\n    secondary_medium=\"air\",\n    flow_type=\"counter\",\n    ratio_outer_to_inner_area=10,\n    two_phase_heat_transfer=heat_transfer.constant.ConstantTwoPhaseHeatTransfer(alpha=1000),\n    gas_heat_transfer=heat_transfer.constant.ConstantHeatTransfer(alpha=1000),\n    wall_heat_transfer=heat_transfer.wall.WallTransfer(lambda_=236, thickness=2e-3),\n    liquid_heat_transfer=heat_transfer.constant.ConstantHeatTransfer(alpha=5000),\n    secondary_heat_transfer=heat_transfer.constant.ConstantHeatTransfer(alpha=25)\n)\nfrom vclibpy.components.expansion_valves import Bernoulli\nhigh_pressure_valve = Bernoulli(A=0.1)\nlow_pressure_valve = Bernoulli(A=0.1)\n"
        },
        {
            "cell_type": "markdown",
            "metadata": {},
            "source": "For the compressors, we need to specify low- and high-pressure\ncompressors. To achieve a somewhat similar heat pump as the\none in the standard-cycle example, we will  assume that we\nuse two smaller compressors instead of one larger one:\n"
        },
        {
            "cell_type": "code",
            "execution_count": null,
            "metadata": {},
            "outputs": [],
            "source": "from vclibpy.components.compressors import RotaryCompressor\nhigh_pressure_compressor = RotaryCompressor(\n    N_max=125,\n    V_h=19e-6 / 2\n)\nlow_pressure_compressor = RotaryCompressor(\n    N_max=125,\n    V_h=19e-6 / 2\n)\n"
        },
        {
            "cell_type": "markdown",
            "metadata": {},
            "source": "Now, we can plug everything into the flowsheet:\n"
        },
        {
            "cell_type": "code",
            "execution_count": null,
            "metadata": {},
            "outputs": [],
            "source": "heat_pump = VaporInjectionPhaseSeparator(\n    evaporator=evaporator,\n    condenser=condenser,\n    fluid=\"Propane\",\n    high_pressure_compressor=high_pressure_compressor,\n    low_pressure_compressor=low_pressure_compressor,\n    high_pressure_valve=high_pressure_valve,\n    low_pressure_valve=low_pressure_valve\n)\n"
        },
        {
            "cell_type": "markdown",
            "metadata": {},
            "source": "As in the other example, we can specify save-paths,\nsolver settings and inputs to vary:\n"
        },
        {
            "cell_type": "code",
            "execution_count": null,
            "metadata": {},
            "outputs": [],
            "source": "save_path = r\"D:\\00_temp\\vapor_injection\"\nT_eva_in_ar = [-10 + 273.15, 273.15, 10 + 273.15]\nT_con_in_ar = [30 + 273.15, 50 + 273.15, 60 + 273.15]\nn_ar = [0.3, 0.7, 1]\n"
        },
        {
            "cell_type": "markdown",
            "metadata": {},
            "source": "Now, we can generate the full-factorial performance map\nusing all inputs. The results will be stored under the\nsave-path. To see some logs, we can import the logging module\nand get, for example, all messages equal or above the INFO-level\n"
        },
        {
            "cell_type": "code",
            "execution_count": null,
            "metadata": {},
            "outputs": [],
            "source": "import logging\nlogging.basicConfig(level=\"INFO\")\n\nfrom vclibpy import utils\nutils.full_factorial_map_generation(\n    heat_pump=heat_pump,\n    save_path=save_path,\n    T_con_in_ar=T_con_in_ar,\n    T_eva_in_ar=T_eva_in_ar,\n    n_ar=n_ar,\n    use_multiprocessing=False,\n    save_plots=True,\n    m_flow_con=0.2,\n    m_flow_eva=0.9,\n    dT_eva_superheating=5,\n    dT_con_subcooling=0,\n)\n"
        },
        {
            "cell_type": "markdown",
            "metadata": {},
            "source": "As in the prior examples, feel free to load the plots,\n.csv or .sdf result files and further analyze them\n# Vapor injection with an economizer.\nAside from the phase-separator flowsheet, we have one with\nan economizer (additional heat exchanger).\nThe assumptions are similar, and the usage as well:\n"
        },
        {
            "cell_type": "code",
            "execution_count": null,
            "metadata": {},
            "outputs": [],
            "source": "from vclibpy.flowsheets import VaporInjectionEconomizer\nhelp(VaporInjectionEconomizer)\n"
        },
        {
            "cell_type": "markdown",
            "metadata": {},
            "source": "We need an additional economizer, which can be found in the heat exchangers:\n"
        },
        {
            "cell_type": "code",
            "execution_count": null,
            "metadata": {},
            "outputs": [],
            "source": "from vclibpy.components.heat_exchangers.economizer import VaporInjectionEconomizerNTU\nhelp(VaporInjectionEconomizerNTU)\n"
        },
        {
            "cell_type": "markdown",
            "metadata": {},
            "source": "Let's assume some dummy parameters:\n"
        },
        {
            "cell_type": "code",
            "execution_count": null,
            "metadata": {},
            "outputs": [],
            "source": "economizer = VaporInjectionEconomizerNTU(\n    A=2,\n    two_phase_heat_transfer=heat_transfer.constant.ConstantTwoPhaseHeatTransfer(alpha=50000),\n    gas_heat_transfer=heat_transfer.constant.ConstantHeatTransfer(alpha=50000),\n    wall_heat_transfer=heat_transfer.wall.WallTransfer(lambda_=236, thickness=2e-3),\n    liquid_heat_transfer=heat_transfer.constant.ConstantHeatTransfer(alpha=50000),\n)\n"
        },
        {
            "cell_type": "markdown",
            "metadata": {},
            "source": "And create the heat pump, and run the map generation:\n"
        },
        {
            "cell_type": "code",
            "execution_count": null,
            "metadata": {},
            "outputs": [],
            "source": "heat_pump = VaporInjectionEconomizer(\n    evaporator=evaporator,\n    condenser=condenser,\n    fluid=\"Propane\",\n    economizer=economizer,\n    high_pressure_compressor=high_pressure_compressor,\n    low_pressure_compressor=low_pressure_compressor,\n    high_pressure_valve=high_pressure_valve,\n    low_pressure_valve=low_pressure_valve\n)\nutils.full_factorial_map_generation(\n    heat_pump=heat_pump,\n    save_path=r\"D:\\00_temp\\vapor_injection_economizer\",\n    T_con_in_ar=T_con_in_ar,\n    T_eva_in_ar=T_eva_in_ar,\n    n_ar=n_ar,\n    use_multiprocessing=False,\n    save_plots=True,\n    m_flow_con=0.2,\n    m_flow_eva=0.9,\n    dT_eva_superheating=5,\n    dT_con_subcooling=0,\n)\n"
        }
    ],
    "metadata": {
        "kernelspec": {
            "display_name": "Python 3",
            "language": "python",
            "name": "python3"
        },
        "language_info": {
            "codemirror_mode": {
                "name": "ipython",
                "version": 3
            },
            "file_extension": ".py",
            "mimetype": "text/x-python",
            "name": "python",
            "nbconvert_exporter": "python",
            "pygments_lexer": "ipython3",
            "version": "3.6.4"
        }
    },
    "nbformat": 4,
    "nbformat_minor": 2
}