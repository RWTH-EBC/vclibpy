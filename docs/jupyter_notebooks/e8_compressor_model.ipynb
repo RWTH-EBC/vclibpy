{
 "cells": [
  {
   "cell_type": "markdown",
   "source": [
    "### Model Compressor Example\n",
    "This example demonstrates how to extend from the class `Compressor` to create a new \n",
    "compressor model. \n"
   ],
   "metadata": {
    "collapsed": false
   },
   "id": "6f1d7a44b9d621b2"
  },
  {
   "cell_type": "markdown",
   "source": [
    "First, let's import the compressor base model from vclibpy's\n",
    "`compressor` package as well as the `Inputs` class:\n"
   ],
   "metadata": {
    "collapsed": false
   },
   "id": "b40184da965b64dc"
  },
  {
   "cell_type": "code",
   "execution_count": 14,
   "outputs": [],
   "source": [
    "from vclibpy.components.compressors import Compressor\n",
    "from vclibpy.datamodels import Inputs\n"
   ],
   "metadata": {
    "collapsed": false,
    "ExecuteTime": {
     "end_time": "2024-10-17T09:38:38.417163500Z",
     "start_time": "2024-10-17T09:38:38.400026300Z"
    }
   },
   "id": "56a1c1e721afab7e"
  },
  {
   "cell_type": "markdown",
   "source": [
    "Our new class `ConstantVolumeRatioCompressor` inherits from the base class `Compressor`. \n"
   ],
   "metadata": {
    "collapsed": false
   },
   "id": "ffa68a2ec1f4c764"
  },
  {
   "cell_type": "code",
   "execution_count": 15,
   "outputs": [],
   "source": [
    "class ConstantVolumeRatioCompressor(Compressor): \n",
    "    #We need an initialization method of the new model. When we initialize the class ‘ConstantVolumeRatioCompressor’, \n",
    "    #we have to initialize the inherited parameters N_max and V_h as well as the model specific parameters v_r, eta_mech and lambda_h.\n",
    "    \n",
    "    def __init__(self,\n",
    "           N_max: float, V_h: float, v_r: float, lambda_h: float, eta_mech: float):\n",
    "        super().__init__(N_max=N_max, \n",
    "                         V_h=V_h)\n",
    "        self.v_r = v_r\n",
    "        self.lambda_h = lambda_h\n",
    "        self.eta_mech = eta_mech\n",
    "    #Now, we have to implement the methods `get_lambda_h`,`get_eta_mech` and `eta_isentropic`. \n",
    "    #`get_lambda_h`,`get_eta_mech` return the specified patameters `eta_mech` and `lambda_h`.    \n",
    "    def get_eta_mech(self, inputs: Inputs) -> float:\n",
    "\n",
    "        return self.eta_mech\n",
    "\n",
    "\n",
    "    def get_lambda_h(self, inputs: Inputs) -> float:\n",
    "\n",
    "        return self.lambda_h\n",
    "    \n",
    "    #Now we implement the method eta_isentropic. We need the density of the fluid at the inlet of the compressor to calculate the density at the outlet.\n",
    "    \n",
    "    def get_eta_isentropic(self, p_outlet: float, inputs: Inputs):\n",
    "        \n",
    "        d1 = self.state_inlet.d\n",
    "        d2 = d1/ self.v_r    \n",
    "        \n",
    "        #Then we calculate the enthalpy of the outlet state of the compressor.\n",
    "        \n",
    "        h2 = self.med_prop.calc_state(\"PD\", p_outlet, d2).h\n",
    "        h2_is = self.med_prop.calc_state(\"PS\", p_outlet, self.state_inlet.s).h\n",
    "        h1 = self.state_inlet.h\n",
    "        \n",
    "        # The isentropic efficiency is now calculated and returned:\n",
    "        eta_isentropic = (h2-h1)/(h2_is-h1)\n",
    "        \n",
    "        return eta_isentropic\n",
    "    "
   ],
   "metadata": {
    "collapsed": false,
    "ExecuteTime": {
     "end_time": "2024-10-17T09:38:39.333927300Z",
     "start_time": "2024-10-17T09:38:39.300078500Z"
    }
   },
   "id": "24f5241a4f547529"
  },
  {
   "cell_type": "markdown",
   "source": [
    "Now we can use the model as shown in the following: \n"
   ],
   "metadata": {
    "collapsed": false
   },
   "id": "14d57e2b54ec1eed"
  },
  {
   "cell_type": "markdown",
   "source": [
    "\n",
    "### Application Example\n",
    "\n",
    "\n",
    "Let's specify some dummy parameters:\n"
   ],
   "metadata": {
    "collapsed": false
   },
   "id": "b58aa063bb6e28be"
  },
  {
   "cell_type": "code",
   "execution_count": 27,
   "outputs": [],
   "source": [
    "compressor = ConstantVolumeRatioCompressor(N_max=120,\n",
    "                                           V_h=19e-6,\n",
    "                                           v_r=1.1, \n",
    "                                           lambda_h= 0.9,\n",
    "                                           eta_mech=0.9)\n"
   ],
   "metadata": {
    "collapsed": false,
    "ExecuteTime": {
     "end_time": "2024-10-17T09:39:44.467794Z",
     "start_time": "2024-10-17T09:39:44.451148400Z"
    }
   },
   "id": "8b3baa31b5a961d3"
  },
  {
   "cell_type": "markdown",
   "source": [
    "Before we can do any calculations, the compressor needs\n",
    "access to refrigerant data. Each component in VcLibPy has\n",
    "the property med_prop (media property) which you can set like this:"
   ],
   "metadata": {
    "collapsed": false
   },
   "id": "cc19c492042786f"
  },
  {
   "cell_type": "code",
   "execution_count": 28,
   "outputs": [],
   "source": [
    "from vclibpy.media import CoolProp\n",
    "med_prop = CoolProp(fluid_name=\"Propane\",use_high_level_api = True)\n",
    "compressor.med_prop = med_prop"
   ],
   "metadata": {
    "collapsed": false,
    "ExecuteTime": {
     "end_time": "2024-10-17T09:39:44.889079800Z",
     "start_time": "2024-10-17T09:39:44.867424600Z"
    }
   },
   "id": "8a0f66a21536509b"
  },
  {
   "cell_type": "markdown",
   "source": [
    "Now, you have to define the input state of the compressor.\n",
    "Each component has inlet and outlet states, which are, same as `med_prop`\n",
    "properties of the component.\n",
    "We assume a super-heated vapor at 1bar as an input state:\n"
   ],
   "metadata": {
    "collapsed": false
   },
   "id": "c53fc1d226922f1d"
  },
  {
   "cell_type": "code",
   "execution_count": 29,
   "outputs": [],
   "source": [
    "p_inlet = 1e5\n",
    "T_superheat = med_prop.calc_state(\"PQ\", p_inlet, 1).T + 10\n",
    "compressor.state_inlet = med_prop.calc_state(\"PT\", p_inlet, T_superheat)\n"
   ],
   "metadata": {
    "collapsed": false,
    "ExecuteTime": {
     "end_time": "2024-10-17T09:39:45.917439Z",
     "start_time": "2024-10-17T09:39:45.900809300Z"
    }
   },
   "id": "9d563670a146532"
  },
  {
   "cell_type": "markdown",
   "source": [
    "We set the compressor speed to 50 % of the maximum speed. "
   ],
   "metadata": {
    "collapsed": false
   },
   "id": "b3515d5217dddeeb"
  },
  {
   "cell_type": "code",
   "execution_count": 30,
   "outputs": [],
   "source": [
    "from vclibpy import FlowsheetState\n",
    "fs_state = FlowsheetState()\n",
    "inputs = Inputs(n=0.5)\n"
   ],
   "metadata": {
    "collapsed": false,
    "ExecuteTime": {
     "end_time": "2024-10-17T09:39:47.134418800Z",
     "start_time": "2024-10-17T09:39:47.131416100Z"
    }
   },
   "id": "9f9d9321b4051773"
  },
  {
   "cell_type": "markdown",
   "source": [
    "We define the pressure at the compressor's outlet and calculate the outlet state: "
   ],
   "metadata": {
    "collapsed": false
   },
   "id": "686e88ebe2808489"
  },
  {
   "cell_type": "code",
   "execution_count": 31,
   "outputs": [
    {
     "name": "stdout",
     "output_type": "stream",
     "text": [
      "compressor.state_outlet=<vclibpy.media.states.ThermodynamicState object at 0x000001FD1FE1E1F0>\n",
      "compressor.state_outlet.T=281.07408524698366\n"
     ]
    }
   ],
   "source": [
    "p_outlet = 6e5\n",
    "compressor.calc_state_outlet(p_outlet=p_outlet, inputs=inputs, fs_state=fs_state)\n",
    "print(f\"{compressor.state_outlet=}\")  # now calculated\n",
    "print(f\"{compressor.state_outlet.T=}\")"
   ],
   "metadata": {
    "collapsed": false,
    "ExecuteTime": {
     "end_time": "2024-10-17T09:39:48.817628900Z",
     "start_time": "2024-10-17T09:39:48.794957400Z"
    }
   },
   "id": "10720ec8c1781473"
  },
  {
   "cell_type": "markdown",
   "source": [
    "We can also calculate the mass flow. "
   ],
   "metadata": {
    "collapsed": false
   },
   "id": "14105c8a74c5ddc6"
  },
  {
   "cell_type": "code",
   "execution_count": 32,
   "outputs": [
    {
     "name": "stdout",
     "output_type": "stream",
     "text": [
      "m_flow=0.0023351945713373317, compressor.m_flow=0.0023351945713373317\n"
     ]
    }
   ],
   "source": [
    "m_flow = compressor.calc_m_flow(inputs=inputs, fs_state=fs_state)\n",
    "print(f\"{m_flow=}, {compressor.m_flow=}\")"
   ],
   "metadata": {
    "collapsed": false,
    "ExecuteTime": {
     "end_time": "2024-10-17T09:39:50.154550Z",
     "start_time": "2024-10-17T09:39:50.131736800Z"
    }
   },
   "id": "3a9fdf78e3053dd3"
  },
  {
   "cell_type": "markdown",
   "source": [
    "Also, relevant results are automatically added to the fs_state:"
   ],
   "metadata": {
    "collapsed": false
   },
   "id": "208e15ba3344782f"
  },
  {
   "cell_type": "code",
   "execution_count": 33,
   "outputs": [
    {
     "name": "stdout",
     "output_type": "stream",
     "text": [
      "FlowsheetState:\n",
      "eta_is=52.27344677156065 % (Isentropic efficiency)\n",
      "lambda_h=0.9 % (Volumetric efficiency)\n",
      "V_flow_ref=0.0010260000000000002 m3/s (Refrigerant volume flow rate)\n",
      "m_flow_ref=0.0023351945713373317 kg/s (Refrigerant mass flow rate)\n"
     ]
    }
   ],
   "source": [
    "print(fs_state)"
   ],
   "metadata": {
    "collapsed": false,
    "ExecuteTime": {
     "end_time": "2024-10-17T09:39:52.101083300Z",
     "start_time": "2024-10-17T09:39:52.083433700Z"
    }
   },
   "id": "7ef12a59c7b07ff0"
  },
  {
   "cell_type": "code",
   "execution_count": 26,
   "outputs": [],
   "source": [],
   "metadata": {
    "collapsed": false,
    "ExecuteTime": {
     "end_time": "2024-10-17T09:38:52.100207700Z",
     "start_time": "2024-10-17T09:38:52.089200400Z"
    }
   },
   "id": "73308d41a2d5b53e"
  },
  {
   "cell_type": "code",
   "execution_count": null,
   "outputs": [],
   "source": [],
   "metadata": {
    "collapsed": false
   },
   "id": "bff223d73bf67fdf"
  }
 ],
 "metadata": {
  "kernelspec": {
   "display_name": "Python 3",
   "language": "python",
   "name": "python3"
  },
  "language_info": {
   "codemirror_mode": {
    "name": "ipython",
    "version": 2
   },
   "file_extension": ".py",
   "mimetype": "text/x-python",
   "name": "python",
   "nbconvert_exporter": "python",
   "pygments_lexer": "ipython2",
   "version": "2.7.6"
  }
 },
 "nbformat": 4,
 "nbformat_minor": 5
}
