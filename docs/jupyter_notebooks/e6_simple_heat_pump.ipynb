{
    "cells": [
        {
            "cell_type": "markdown",
            "metadata": {},
            "source": "# Example for a heat pump with a standard cycle\n"
        },
        {
            "cell_type": "markdown",
            "metadata": {},
            "source": "Let's start the complete cycle simulation with the\nmost basic flowsheet, the standard-cycle. As all flowsheets\ncontain a condenser and an evaporator, we defined a common BaseCycle\nto avoid code-repetition.\nWe can import this flowsheet and see how to use it. Note that\nmodern coding IDEs like PyCharm will tell you which arguments belong\nto a class or function. If you don't have that at hand, you need\nto look into the documentation.\n"
        },
        {
            "cell_type": "code",
            "execution_count": null,
            "metadata": {},
            "outputs": [],
            "source": "from vclibpy.flowsheets import BaseCycle, StandardCycle\nhelp(BaseCycle)\nhelp(StandardCycle)\n"
        },
        {
            "cell_type": "markdown",
            "metadata": {},
            "source": "We fist need to define the components in the cycle.\nHere we are using the components developed in the previous examples.\nAlso, note again that the expansion valve model does not influence the results\nfor the current algorithm. But, you could size the expansion valve\nusing vclibpy, including off-design, but this is one for another example.\n"
        },
        {
            "cell_type": "code",
            "execution_count": null,
            "metadata": {},
            "outputs": [],
            "source": "from vclibpy.components.heat_exchangers import moving_boundary_ntu\nfrom vclibpy.components.heat_exchangers import heat_transfer\ncondenser = moving_boundary_ntu.MovingBoundaryNTUCondenser(\n    A=5,\n    secondary_medium=\"water\",\n    flow_type=\"counter\",\n    ratio_outer_to_inner_area=1,\n    two_phase_heat_transfer=heat_transfer.constant.ConstantTwoPhaseHeatTransfer(alpha=5000),\n    gas_heat_transfer=heat_transfer.constant.ConstantHeatTransfer(alpha=5000),\n    wall_heat_transfer=heat_transfer.wall.WallTransfer(lambda_=236, thickness=2e-3),\n    liquid_heat_transfer=heat_transfer.constant.ConstantHeatTransfer(alpha=5000),\n    secondary_heat_transfer=heat_transfer.constant.ConstantHeatTransfer(alpha=5000)\n)\nevaporator = moving_boundary_ntu.MovingBoundaryNTUEvaporator(\n    A=15,\n    secondary_medium=\"air\",\n    flow_type=\"counter\",\n    ratio_outer_to_inner_area=10,\n    two_phase_heat_transfer=heat_transfer.constant.ConstantTwoPhaseHeatTransfer(alpha=1000),\n    gas_heat_transfer=heat_transfer.constant.ConstantHeatTransfer(alpha=1000),\n    wall_heat_transfer=heat_transfer.wall.WallTransfer(lambda_=236, thickness=2e-3),\n    liquid_heat_transfer=heat_transfer.constant.ConstantHeatTransfer(alpha=5000),\n    secondary_heat_transfer=heat_transfer.constant.ConstantHeatTransfer(alpha=25)\n)\nfrom vclibpy.components.expansion_valves import Bernoulli\nexpansion_valve = Bernoulli(A=0.1)\n\nfrom vclibpy.components.compressors import RotaryCompressor\ncompressor = RotaryCompressor(\n    N_max=125,\n    V_h=19e-6\n)\n"
        },
        {
            "cell_type": "markdown",
            "metadata": {},
            "source": "Now, we can plug everything into the flowsheet:\n"
        },
        {
            "cell_type": "code",
            "execution_count": null,
            "metadata": {},
            "outputs": [],
            "source": "heat_pump = StandardCycle(\n    evaporator=evaporator,\n    condenser=condenser,\n    fluid=\"Propane\",\n    compressor=compressor,\n    expansion_valve=expansion_valve,\n)\n"
        },
        {
            "cell_type": "markdown",
            "metadata": {},
            "source": "As in the other example, we can specify save-paths,\nsolver settings and inputs to vary:\nNote that T_con can either be inlet or outlet, depending on the setting\nof `use_condenser_inlet`. Per default, we simulate the inlet, T_con_in\n"
        },
        {
            "cell_type": "code",
            "execution_count": null,
            "metadata": {},
            "outputs": [],
            "source": "save_path = r\"D:\\00_temp\\simple_heat_pump\"\nT_eva_in_ar = [-10 + 273.15, 273.15, 10 + 273.15]\nT_con_ar = [30 + 273.15, 50 + 273.15, 70 + 273.15]\nn_ar = [0.3, 0.7, 1]\n"
        },
        {
            "cell_type": "markdown",
            "metadata": {},
            "source": "Now, we can generate the full-factorial performance map\nusing all inputs. The results will be stored under the\nsave-path. To see some logs, we can import the logging module\nand get, for example, all messages equal or above the INFO-level\n"
        },
        {
            "cell_type": "code",
            "execution_count": null,
            "metadata": {},
            "outputs": [],
            "source": "import logging\nlogging.basicConfig(level=\"INFO\")\n\nfrom vclibpy import utils\nsave_path_sdf, save_path_csv = utils.full_factorial_map_generation(\n    heat_pump=heat_pump,\n    save_path=save_path,\n    T_con_ar=T_con_ar,\n    T_eva_in_ar=T_eva_in_ar,\n    n_ar=n_ar,\n    use_condenser_inlet=use_condenser_inlet,\n    use_multiprocessing=False,\n    save_plots=True,\n    m_flow_con=0.2,\n    m_flow_eva=0.9,\n    dT_eva_superheating=5,\n    dT_con_subcooling=0,\n)\n"
        },
        {
            "cell_type": "markdown",
            "metadata": {},
            "source": "What did just happen? We can analyze all results by listing the\nfiles in the save-path - or just open it in our default system explorer.\n"
        },
        {
            "cell_type": "code",
            "execution_count": null,
            "metadata": {},
            "outputs": [],
            "source": "import os\nprint(os.listdir(save_path))\n"
        },
        {
            "cell_type": "markdown",
            "metadata": {},
            "source": "One file should be: `Standard_Propane.csv`. We can load this file and plot\n"
        },
        {
            "cell_type": "code",
            "execution_count": null,
            "metadata": {},
            "outputs": [],
            "source": "import pandas as pd\ndf = pd.read_csv(save_path_csv, index_col=0)\ndf\n"
        },
        {
            "cell_type": "markdown",
            "metadata": {},
            "source": "Now, we can plot variables, for example as a scatter plot using matplotlib.\nYou have to know the names, which are the column headers.\n"
        },
        {
            "cell_type": "code",
            "execution_count": null,
            "metadata": {},
            "outputs": [],
            "source": "import matplotlib.pyplot as plt\nx_name = \"n in - (Relative compressor speed)\"\ny_name = \"COP in - (Coefficient of performance)\"\nplt.scatter(df[x_name], df[y_name], s=20)\nplt.ylabel(y_name)\nplt.xlabel(x_name)\nplt.show()\n"
        },
        {
            "cell_type": "markdown",
            "metadata": {},
            "source": "Looking at the results, we see that a higher frequency often leads to lower COP values.\nHowever, other inputs (temperatures) have a greater impact on the COP.\nWe can also use existing 3D-plotting scripts in vclibpy to analyze the\ndependencies. For this, we need the .sdf file. In the sdf, the field names are without\nthe unit and description, as those are accessible in the file-format in other columns.\nDepending on whether we varied the inlet or outlet, we have to specify the correct name.\n"
        },
        {
            "cell_type": "code",
            "execution_count": null,
            "metadata": {},
            "outputs": [],
            "source": "from vclibpy.utils.plotting import plot_sdf_map\nplot_sdf_map(\n    filepath_sdf=save_path_sdf,\n    nd_data=\"COP\",\n    first_dimension=\"T_eva_in\",\n    second_dimension=\"T_con_in\" if use_condenser_inlet else \"T_con_out\",\n    fluids=[\"Propane\"],\n    flowsheets=[\"Standard\"]\n)\n"
        }
    ],
    "metadata": {
        "kernelspec": {
            "display_name": "Python 3",
            "language": "python",
            "name": "python3"
        },
        "language_info": {
            "codemirror_mode": {
                "name": "ipython",
                "version": 3
            },
            "file_extension": ".py",
            "mimetype": "text/x-python",
            "name": "python",
            "nbconvert_exporter": "python",
            "pygments_lexer": "ipython3",
            "version": "3.6.4"
        }
    },
    "nbformat": 4,
    "nbformat_minor": 2
}