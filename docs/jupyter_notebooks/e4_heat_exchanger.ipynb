{
    "cells": [
        {
            "cell_type": "markdown",
            "metadata": {},
            "source": "# Heat Exchanger Example\nThis example demonstrates how to use the heat exchanger\nclasses.\n"
        },
        {
            "cell_type": "markdown",
            "metadata": {},
            "source": "Contrary to the first examples, the heat exchanger is\nmore complex, in the sense that the only current\nmodels follows a moving boundary epsNTU approach.\nThus, you need to assume heat transfer correlations\nfor different regimes.\nWe will use the evaporator for this example. Let's check the doc:\n"
        },
        {
            "cell_type": "code",
            "execution_count": null,
            "metadata": {},
            "outputs": [],
            "source": "from vclibpy.components.heat_exchangers import MovingBoundaryNTUEvaporator\nhelp(MovingBoundaryNTUEvaporator)\n"
        },
        {
            "cell_type": "markdown",
            "metadata": {},
            "source": "As you can see, we have to define a lot of parameters.\nLet's model a simple air-to-refrigerant heat exchanger with\nconstant heat transfer correlations. The areas are not that important\nfor this example.\nFor heat transfer, you can import models from the `heat_transfer` package\ninside the `heat_exchangers` package.\nYou will find all options in the documentation of VcLibPy\n"
        },
        {
            "cell_type": "code",
            "execution_count": null,
            "metadata": {},
            "outputs": [],
            "source": "from vclibpy.components.heat_exchangers.heat_transfer.constant import (\n    ConstantHeatTransfer, ConstantTwoPhaseHeatTransfer\n)\nfrom vclibpy.components.heat_exchangers.heat_transfer.wall import WallTransfer\n"
        },
        {
            "cell_type": "markdown",
            "metadata": {},
            "source": "Now, we can instantiate the class:\n"
        },
        {
            "cell_type": "code",
            "execution_count": null,
            "metadata": {},
            "outputs": [],
            "source": "evaporator = MovingBoundaryNTUEvaporator(\n    A=15,\n    secondary_medium=\"air\",\n    flow_type=\"counter\",\n    ratio_outer_to_inner_area=10,\n    two_phase_heat_transfer=ConstantTwoPhaseHeatTransfer(alpha=1000),\n    gas_heat_transfer=ConstantHeatTransfer(alpha=1000),\n    wall_heat_transfer=WallTransfer(lambda_=236, thickness=2e-3),\n    liquid_heat_transfer=ConstantHeatTransfer(alpha=5000),\n    secondary_heat_transfer=ConstantHeatTransfer(alpha=25)\n)\n"
        },
        {
            "cell_type": "markdown",
            "metadata": {},
            "source": "## Heat exchanger iterations\nTo understand the heat exchanger functions in VcLibPy,\nyou have to understand how we iterate to solve the closed\ncycle simulation.\nIn reality, the expansion valve would\nadjust its opening until a certain degree of superheat\nis met. While this may oscillate in dynamic operation,\nwe assume that the control is able to meet a constant\ndegree of superheat in steady state.\nThis means, we have to find the pressure level which\nensures this superheat. So instead of iterating\nthe valve opening, we iterate the evaporation pressure\ndirectly. The same holds for the condenser and subcooling.\nHowever, levels of subcooling are not directly controlled in\nreal devices, at least in the standard cycle.\nThe assumption of keeping the degree of subcooling as an input\ncould be changed in future work.\n"
        },
        {
            "cell_type": "markdown",
            "metadata": {},
            "source": "For iteration, heat exchangers have the function `calc`.\nIn order for it to work, you have to assign both inlet and\noutlet state, as well as the mass flow rate. Note that,\nas we assume the levels of superheat and subcooling, we\nwill always have these states in our iterations.\nFurther, the inputs need to contain the evaporator inlet temperature T_eva_in and\nthe evaporator mass flow rate (secondary side):\n"
        },
        {
            "cell_type": "code",
            "execution_count": null,
            "metadata": {},
            "outputs": [],
            "source": "from vclibpy import FlowsheetState, Inputs\nfs_state = FlowsheetState()\nfrom vclibpy.media import CoolProp\nmed_prop = CoolProp(fluid_name=\"Propane\")\nevaporator.med_prop = med_prop  # We have to set it, same as in the second example.\nevaporator.m_flow = 0.01\n"
        },
        {
            "cell_type": "markdown",
            "metadata": {},
            "source": "Also, we have to start the secondary med-prop. This is done for you\nin the calculations, but required to be an extra function to enable multi-processing:\n"
        },
        {
            "cell_type": "code",
            "execution_count": null,
            "metadata": {},
            "outputs": [],
            "source": "evaporator.start_secondary_med_prop()\n"
        },
        {
            "cell_type": "markdown",
            "metadata": {},
            "source": "Let's assume  a superheat of 10 K and a condenser subcooling of 0 K.\nWith an isenthalp expansion valve, the inlet and outlet are given.\nFurther, let's assume a condensation temperature of 40 °C and\nan air temperature of 2 °C, corresponding to the typical heat pump point A2W25\n"
        },
        {
            "cell_type": "code",
            "execution_count": null,
            "metadata": {},
            "outputs": [],
            "source": "T_eva_in = 273.15 + 2\ndT_eva_superheating = 10\ndT_con_subcooling = 0\ninputs = Inputs(\n    T_eva_in=T_eva_in, m_flow_eva=0.47,\n    dT_eva_superheating=dT_eva_superheating, dT_con_subcooling=dT_con_subcooling\n)\n"
        },
        {
            "cell_type": "markdown",
            "metadata": {},
            "source": "Let's start with a simple assumption, no temperature difference\nat the evaporator outlet (or inlet of air):\n"
        },
        {
            "cell_type": "code",
            "execution_count": null,
            "metadata": {},
            "outputs": [],
            "source": "p_evaporation = med_prop.calc_state(\"TQ\", T_eva_in - dT_eva_superheating, 1).p\n"
        },
        {
            "cell_type": "markdown",
            "metadata": {},
            "source": "Calculate the condenser outlet and expansion valve outlet, thus evaporator inlet\n"
        },
        {
            "cell_type": "code",
            "execution_count": null,
            "metadata": {},
            "outputs": [],
            "source": "state_condenser_outlet = med_prop.calc_state(\"TQ\", 273.15 + 40, 0)\nevaporator.state_inlet = med_prop.calc_state(\"PH\", p_evaporation, state_condenser_outlet.h)\nT_evaporation = med_prop.calc_state(\"PQ\", p_evaporation, 1).T\nevaporator.state_outlet = med_prop.calc_state(\"PT\", p_evaporation, T_evaporation + dT_eva_superheating)\nprint(evaporator.calc_Q_flow())\n"
        },
        {
            "cell_type": "markdown",
            "metadata": {},
            "source": "What do they mean?\nThey are used in the iterative logic of VcLibPy and indicate that\nthe heat exchanger is valid, if the error is smaller than a pre-defined\nmargin and dT_min is greater than 0.\n"
        },
        {
            "cell_type": "code",
            "execution_count": null,
            "metadata": {},
            "outputs": [],
            "source": "error, dT_min = evaporator.calc(inputs=inputs, fs_state=fs_state)\nprint(f\"{error=}, {dT_min=}\")\n"
        },
        {
            "cell_type": "markdown",
            "metadata": {},
            "source": "dT_min is, as assumed, close to zero. However, the error is very large.\nThe error is calculated as follows: `(Q_ntu / Q - 1) * 100`.\n`Q` is the amount of heat required to be transported, `Q_ntu` is\nthe amount possible to transfer according to NTU method.\nThis means, a negative value of 100 means we could transport 2 times\nless heat than we want to.\nThus, we have to iterate the pressure assumptions and lower it,\nas we need a higher temperature difference to the air.\nFor this, we will use a loop:\n"
        },
        {
            "cell_type": "code",
            "execution_count": null,
            "metadata": {},
            "outputs": [],
            "source": "import numpy as np\np_evaporations = np.linspace(p_evaporation - 1e4, p_evaporation, 1000)\nerrors, dT_mins = [], []\nfor p_evaporation in p_evaporations:\n    evaporator.state_inlet = med_prop.calc_state(\"PH\", p_evaporation, state_condenser_outlet.h)\n    T_evaporation = med_prop.calc_state(\"PQ\", p_evaporation, 1).T\n    evaporator.state_outlet = med_prop.calc_state(\"PT\", p_evaporation, T_evaporation + dT_eva_superheating)\n    error, dT_min = evaporator.calc(inputs=inputs, fs_state=fs_state)\n    errors.append(error)\n    dT_mins.append(dT_min)\n"
        },
        {
            "cell_type": "markdown",
            "metadata": {},
            "source": "The iteration of VcLibPy is largely based on this method, so nothing fancy.\nIf the error is positive, we step back to the old value and decrease the\nstep-size by a factor of 10. At the end, we iterate with a `min_iteration_step`,\nwhich is, by default 1 Pa.\n\nLet's plot the result:\n"
        },
        {
            "cell_type": "code",
            "execution_count": null,
            "metadata": {},
            "outputs": [],
            "source": "import matplotlib.pyplot as plt\nfig, ax = plt.subplots(2, 1, sharex=True)\nax[0].plot(p_evaporations / 1e5, errors)\nax[0].set_ylabel(\"Error in %\")\nax[1].plot(p_evaporations / 1e5, dT_mins)\nax[1].set_ylabel(\"$\\Delta T$ in K\")\nax[1].set_xlabel(\"$p_\\mathrm{Eva}$ in bar\")\nplt.show()\n"
        },
        {
            "cell_type": "markdown",
            "metadata": {},
            "source": "## Implement your own iteration\nAs the result is still not good, let's implement this really basic iteration logic.\nFor iterating, we use a while-loop. Let's define a max-iteration\ncounter to avoid an infinite iteration.\n"
        },
        {
            "cell_type": "code",
            "execution_count": null,
            "metadata": {},
            "outputs": [],
            "source": "max_iterations = 100\nn_iteration = 0\np_eva_next = p_evaporation  # Start with simple assumption\np_step = 10000  # Pa\nmin_step = 1  # Pa\nmin_error = 0.1  # 0.1 % maximal error\nerrors, dT_mins, p_evaporations = [], [], []  # Store for later plotting\nwhile n_iteration < max_iterations:\n    evaporator.state_inlet = med_prop.calc_state(\"PH\", p_eva_next, state_condenser_outlet.h)\n    T_eva = med_prop.calc_state(\"PQ\", p_eva_next, 1).T\n    evaporator.state_outlet = med_prop.calc_state(\"PT\", p_eva_next, T_eva + inputs.get(\"dT_eva_superheating\").value)\n    error, dT_min = evaporator.calc(inputs=inputs, fs_state=fs_state)\n    # Store for later plotting\n    errors.append(error)\n    dT_mins.append(dT_min)\n    p_evaporations.append(p_eva_next / 1e5)\n    n_iteration += 1\n    if error < min_error:\n        p_eva_next -= p_step\n        continue\n    elif error > min_error:\n        p_eva_next += p_step  # Go back\n        if p_step <= min_step:\n            print(\"Error: Can't solve any more accurate with given size of min_step\")\n            break\n        p_step /= 10\n        continue\n    else:\n        print(f\"Converged\")\nelse:\n    print(\"Did not converged in the given max_iterations.\")\nprint(f\"Solution: {error=}, {dT_min=}, p_evaporation={p_evaporations[-1]}. Took {n_iteration=}\")\n"
        },
        {
            "cell_type": "markdown",
            "metadata": {},
            "source": "Again, let's plot the iteration:\n"
        },
        {
            "cell_type": "code",
            "execution_count": null,
            "metadata": {},
            "outputs": [],
            "source": "import matplotlib.pyplot as plt\nfig, ax = plt.subplots(3, 1, sharex=True)\nax[0].plot(range(n_iteration), errors, marker=\"s\")\nax[0].set_ylabel(\"Error in %\")\nax[1].plot(range(n_iteration), dT_mins, marker=\"s\")\nax[1].set_ylabel(\"$\\Delta T$ in K\")\nax[2].plot(range(n_iteration), p_evaporations, marker=\"s\")\nax[2].set_ylabel(\"$p_\\mathrm{Eva}$ in bar\")\nax[2].set_xlabel(\"Iterations in -\")\nplt.show()\n"
        },
        {
            "cell_type": "markdown",
            "metadata": {},
            "source": "You can see that the iterative process converges to an error\nClose to zero. However, it's not really an efficient optimization.\nThis could, and should, be optimized using optimization techniques.\n"
        },
        {
            "cell_type": "markdown",
            "metadata": {},
            "source": "## Pinch plotting\nWhat also helps to understand the heat exchanger better is to\nplot the states and secondary media. We can use the\n`get_two_phase_limits` function of med_prop to quickly plot\nthose:\n"
        },
        {
            "cell_type": "code",
            "execution_count": null,
            "metadata": {},
            "outputs": [],
            "source": "plt.plot(\n    med_prop.get_two_phase_limits(\"h\") / 1000,\n    med_prop.get_two_phase_limits(\"T\") - 273.15, color=\"black\"\n)\nstate_vapor = med_prop.calc_state(\"PQ\", evaporator.state_inlet.p, 1)  # define intermediate state\nstates_to_plot = [evaporator.state_inlet, state_vapor, evaporator.state_outlet]\nplt.plot(\n    [state.h / 1000 for state in states_to_plot],\n    [state.T - 273.15 for state in states_to_plot],\n    marker=\"s\", color=\"red\"\n)\nQ_flow = evaporator.calc_Q_flow()\nT_eva_in = T_eva_in - 273.15\nT_eva_out = T_eva_in - Q_flow / inputs.get(\"m_flow_eva\").value / 1000\nplt.plot(\n    [evaporator.state_outlet.h / 1000, evaporator.state_inlet.h / 1000],\n    [T_eva_in, T_eva_out],\n    color=\"blue\"\n)\nplt.ylabel(\"$T$ in °C\")\nplt.xlabel(\"$h$ in kJ/kgK\")\nplt.ylim([evaporator.state_inlet.T - 275.15, T_eva_in + 2])\nplt.show()\n"
        }
    ],
    "metadata": {
        "kernelspec": {
            "display_name": "Python 3",
            "language": "python",
            "name": "python3"
        },
        "language_info": {
            "codemirror_mode": {
                "name": "ipython",
                "version": 3
            },
            "file_extension": ".py",
            "mimetype": "text/x-python",
            "name": "python",
            "nbconvert_exporter": "python",
            "pygments_lexer": "ipython3",
            "version": "3.6.4"
        }
    },
    "nbformat": 4,
    "nbformat_minor": 2
}