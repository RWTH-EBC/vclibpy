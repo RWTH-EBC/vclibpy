{
    "cells": [
        {
            "cell_type": "markdown",
            "metadata": {},
            "source": "# Inputs and FlowsheetState\nThis example demonstrates how to use the classes `Inputs`,\nand `FlowsheetState`\n"
        },
        {
            "cell_type": "markdown",
            "metadata": {},
            "source": "All Variables in the `Inputs` and `FlowsheetState` will be saved in\noutput formats like .csv or .sdf\nThus, the concept of these two classes is important to\nunderstand and analyze simulations in VcLibPy.\n"
        },
        {
            "cell_type": "markdown",
            "metadata": {},
            "source": "## Inputs\nAll external boundary conditions which act on the vapor compression\ncycle may be inputs.\nWe separate the external inputs into `ControlInputs` and\n`HeatExchangerInputs`.\nDepending on the vapor compression cycle, you may have different\ncontrol options and may have multiple heat exchangers.\nIn most cases, each machine has some controls and has\nan evaporator and condenser.\nThus, the `Inputs` class requires to specify\n`control', 'evaporator', and 'condenser'.\nHowever, if necessary, you could inherit `Inputs` and define\nadditional input requirements.\n"
        },
        {
            "cell_type": "code",
            "execution_count": null,
            "metadata": {},
            "outputs": [],
            "source": "from vclibpy import Inputs, RelativeCompressorSpeedControl, HeatExchangerInputs\n"
        },
        {
            "cell_type": "markdown",
            "metadata": {},
            "source": "### HeatExchangerInputs\nThe heat exchanger inputs are necessary to define the secondary (outer) temperature\nlevels and to check if the heat can be transferred\ngiven the inlet and outlet temperatures.\n\nDuring calculations, the equation\n`Q = m_flow * cp * abs(T_out - T_in) = m_flow * cp * dT`\nmust be satisfied. For example, if you provide `T_in`, `T_out`, and `cp`, the code\nwill calculate `Q` and `dT`. If you provide `T_in`, `dT`, and `cp`, it will calculate\n`T_out` and `Q`. `Q` and `cp` are automatically provided during cycle iteration.\n\nFor the current calculations, you have to specify at least two other arguments (e.g., `T_in` and `T_out`).\nYou always have to specify either `T_in` or `T_out` to define\nthe absolute temperature and pressure levels.\nThe mass flow rate, temperature difference or other temperature presuppose each other.\nSometimes you have a mass flow rate at hand, sometimes you want to achieve a certain\ntemperature spread. Thus, all options are available.\n\nMoreover, you can add inputs (e.g. `T_ambient`), which may be required to perform calculations\nof the heat exchangers. This concept is shown in the section \"Adding new inputs\".\n"
        },
        {
            "cell_type": "markdown",
            "metadata": {},
            "source": "#### Control inputs\nThe control inputs are strongly linked to the way the\ncycle calculation works. For instance, most examples use\na `RelativeCompressorSpeedControl` class, controlling the\nstates via compressor speed `n`, evaporator superheat `dT_eva_superheating`\nand condenser subcooling `dT_con_subcooling`.\nAnother example is `CondenserPowerControl`, which controls the states\naccording to a desired condenser heat flow rate `Q_con`. Here, the cycle\ncalculation has to iterate in a different manner to map the desired `Q_con`\nto a compressor speed in order to calculate the compressor models.\n\n#### Adding new inputs\nIf you are required to add new inputs, you can in two ways.\nFor instance, let's say you want to control the pressure\nlevel ratio, at which vapor is injected in the vapor-injection flowsheets.\nHere, the flowsheets can act on the control-input `k_vapor_injection`.\nYou can set custom inputs like this to test out new implementations:\n"
        },
        {
            "cell_type": "code",
            "execution_count": null,
            "metadata": {},
            "outputs": [],
            "source": "control_inputs = RelativeCompressorSpeedControl(n=1)\ncontrol_inputs.set(name=\"k_vapor_injection\", value=1.05)\nprint(control_inputs)\n"
        },
        {
            "cell_type": "markdown",
            "metadata": {},
            "source": "Optional arguments of the `set` function are unit and description.\nYou should pass those along with the name and value to make\nyour results easier to analyze, for others and your future self:\n"
        },
        {
            "cell_type": "code",
            "execution_count": null,
            "metadata": {},
            "outputs": [],
            "source": "control_inputs.set(\n    name=\"k_vapor_injection\", value=1.05,\n    unit=\"-\",\n    description=\"Calculates the injection pressure level according to \"\n                \"k_vapor_injection * np.sqrt(p_1 * p_2)\"\n)\n"
        },
        {
            "cell_type": "markdown",
            "metadata": {},
            "source": "The `set` function registers a Variable in the `inputs` object.\nYou can get different information types like this:\n"
        },
        {
            "cell_type": "code",
            "execution_count": null,
            "metadata": {},
            "outputs": [],
            "source": "print(f\"{control_inputs.get_variables()=}\")\nprint(f\"{control_inputs.get_variable_names()=}\")\nprint(f\"{control_inputs.get(name='k_vapor_injection')=}\")\nprint(f\"{control_inputs.items()=}\")  # To loop over the variable dict.\n"
        },
        {
            "cell_type": "markdown",
            "metadata": {},
            "source": "If you decide a new flowsheet always requires this control option,\nyou can further extend any `ControlInputs` classes and add such an option:\nTo mimic the example above, we extend RelativeCompressorSpeedControl\n"
        },
        {
            "cell_type": "code",
            "execution_count": null,
            "metadata": {},
            "outputs": [],
            "source": "from vclibpy.datamodels import RelativeCompressorSpeedControl\n\nclass VaporInjectionCompressorControl(RelativeCompressorSpeedControl):\n    \"\"\"\n    Example on how to define custom controls as classes.\n    \"\"\"\n\n    def __init__(\n            self,\n            k_vapor_injection: float = 1,\n            **kwargs\n    ):\n        super().__init__(**kwargs)\n        self.set(\n            name=\"k_vapor_injection\", value=k_vapor_injection,\n            unit=\"-\",\n            description=\"Calculates the injection pressure level according to \"\n                        \"k_vapor_injection * np.sqrt(p_1 * p_2)\"\n        )\nprint(VaporInjectionCompressorControl(n=0.2, k_vapor_injection=0.9).get_variables())\n"
        },
        {
            "cell_type": "markdown",
            "metadata": {},
            "source": "## FlowsheetState\nThe class `FlowsheetState` is essentially the same as `Inputs`.\nThe only difference is its use, which is for outputs of the vapor\ncompression cycle like COP, heat flow rate, temperatures, etc.\nBasically, anything a users might be interested in analyzing when\nsimulating a steady state vapor compression cycle.\nAs the outputs are flowsheet specific, we define no default\nVariables in the `FlowsheetState`.\nHowever, you can set variables the same way as with `ControlInputs` or `HeatExchangerInputs`.\n"
        },
        {
            "cell_type": "code",
            "execution_count": null,
            "metadata": {},
            "outputs": [],
            "source": "from vclibpy import FlowsheetState\nfs_state = FlowsheetState()\nprint(fs_state)\nfs_state.set(name=\"some_interesting_output\", value=3.14,\n             unit=\"-\", description=\"This is just an example\")\nprint(fs_state)\n"
        },
        {
            "cell_type": "markdown",
            "metadata": {},
            "source": "As the fs_state is passed to all components, it's important to\nuse distinct names. If two components set a variable `T_1`, the latter\none will override the first one.\nAs the `fs_state` and `inputs` are mutable, no history is preserved.\nIf you want to, for example, plot the history of the `fs_state`,\nyou have to store copies of the instance:\n"
        },
        {
            "cell_type": "code",
            "execution_count": null,
            "metadata": {},
            "outputs": [],
            "source": "fs_states = []\nfor some_value in range(10):\n    fs_state.set(name=\"some_interesting_output\", value=some_value)\n    fs_states.append(fs_state.copy())\nprint([fs_state.get(\"some_interesting_output\").value for fs_state in fs_states])\n"
        },
        {
            "cell_type": "markdown",
            "metadata": {},
            "source": "Without the copy, it would not work:\n"
        },
        {
            "cell_type": "code",
            "execution_count": null,
            "metadata": {},
            "outputs": [],
            "source": "fs_states = []\nfor some_value in range(10):\n    fs_state.set(name=\"some_interesting_output\", value=some_value)\n    fs_states.append(fs_state)\nprint([fs_state.get(\"some_interesting_output\").value for fs_state in fs_states])\n"
        }
    ],
    "metadata": {
        "kernelspec": {
            "display_name": "Python 3",
            "language": "python",
            "name": "python3"
        },
        "language_info": {
            "codemirror_mode": {
                "name": "ipython",
                "version": 3
            },
            "file_extension": ".py",
            "mimetype": "text/x-python",
            "name": "python",
            "nbconvert_exporter": "python",
            "pygments_lexer": "ipython3",
            "version": "3.6.4"
        }
    },
    "nbformat": 4,
    "nbformat_minor": 2
}