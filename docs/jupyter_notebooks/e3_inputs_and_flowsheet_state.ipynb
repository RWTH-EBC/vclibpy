{
    "cells": [
        {
            "cell_type": "markdown",
            "metadata": {},
            "source": "# Inputs and FlowsheetState\nThis example demonstrates how to use the classes `Inputs`,\nand `FlowsheetState`\n"
        },
        {
            "cell_type": "code",
            "execution_count": null,
            "metadata": {},
            "outputs": [],
            "source": "    def __init__(\n            self,\n            k_vapor_injection: float = 1,\n            **kwargs\n    ):\n        super().__init__(**kwargs)\n        self.set(\n            name=\"k_vapor_injection\", value=k_vapor_injection,\n            unit=\"-\",\n            description=\"Calculates the injection pressure level according to \"\n                        \"k_vapor_injection * np.sqrt(p_1 * p_2)\"\n        )\nprint(VaporInjectionCompressorControl(n=0.2, k_vapor_injection=0.9).get_variables())\n"
        },
        {
            "cell_type": "markdown",
            "metadata": {},
            "source": "## FlowsheetState\nThe class `FlowsheetState` is essentially the same as `Inputs`.\nThe only difference is its use, which is for outputs of the vapor\ncompression cycle like COP, heat flow rate, temperatures, etc.\nBasically, anything a users might be interested in analyzing when\nsimulating a steady state vapor compression cycle.\nAs the outputs are flowsheet specific, we define no default\nVariables in the `FlowsheetState`.\nHowever, you can set variables the same way as with `ControlInputs` or `HeatExchangerInputs`.\n"
        },
        {
            "cell_type": "code",
            "execution_count": null,
            "metadata": {},
            "outputs": [],
            "source": "from vclibpy import FlowsheetState\nfs_state = FlowsheetState()\nprint(fs_state)\nfs_state.set(name=\"some_interesting_output\", value=3.14,\n             unit=\"-\", description=\"This is just an example\")\nprint(fs_state)\n"
        },
        {
            "cell_type": "markdown",
            "metadata": {},
            "source": "As the fs_state is passed to all components, it's important to\nuse distinct names. If two components set a variable `T_1`, the latter\none will override the first one.\nAs the `fs_state` and `inputs` are mutable, no history is preserved.\nIf you want to, for example, plot the history of the `fs_state`,\nyou have to store copies of the instance:\n"
        },
        {
            "cell_type": "code",
            "execution_count": null,
            "metadata": {},
            "outputs": [],
            "source": "fs_states = []\nfor some_value in range(10):\n    fs_state.set(name=\"some_interesting_output\", value=some_value)\n    fs_states.append(fs_state.copy())\nprint([fs_state.get(\"some_interesting_output\").value for fs_state in fs_states])\n"
        },
        {
            "cell_type": "markdown",
            "metadata": {},
            "source": "Without the copy, it would not work:\n"
        },
        {
            "cell_type": "code",
            "execution_count": null,
            "metadata": {},
            "outputs": [],
            "source": "fs_states = []\nfor some_value in range(10):\n    fs_state.set(name=\"some_interesting_output\", value=some_value)\n    fs_states.append(fs_state)\nprint([fs_state.get(\"some_interesting_output\").value for fs_state in fs_states])\n"
        }
    ],
    "metadata": {
        "kernelspec": {
            "display_name": "Python 3",
            "language": "python",
            "name": "python3"
        },
        "language_info": {
            "codemirror_mode": {
                "name": "ipython",
                "version": 3
            },
            "file_extension": ".py",
            "mimetype": "text/x-python",
            "name": "python",
            "nbconvert_exporter": "python",
            "pygments_lexer": "ipython3",
            "version": "3.6.4"
        }
    },
    "nbformat": 4,
    "nbformat_minor": 2
}