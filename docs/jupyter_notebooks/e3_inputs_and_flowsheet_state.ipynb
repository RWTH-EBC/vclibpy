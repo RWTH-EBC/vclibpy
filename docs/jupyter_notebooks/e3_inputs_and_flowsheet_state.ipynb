{
    "cells": [
        {
            "cell_type": "markdown",
            "metadata": {},
            "source": "# Inputs and FlowsheetState\nThis example demonstrates how to use the classes `Inputs`,\nand `FlowsheetState`\n"
        },
        {
            "cell_type": "markdown",
            "metadata": {},
            "source": "All Variables in the `Inputs` and `FlowsheetState` will be saved in\noutput formats like .csv or .sdf\nThus, the concept of these two classes is important to\nunderstand and analyze simulations in VcLibPy.\n"
        },
        {
            "cell_type": "markdown",
            "metadata": {},
            "source": "## Inputs\nAll external boundary conditions which act on the vapor compression\ncycle may be inputs. This could be the compressor speed, ambient temperature,\nor the inlet temperatures and mass flow rates of the secondary side\nin the heat exchangers.\nYou can see all default options by just printing the empty instance:\n"
        },
        {
            "cell_type": "code",
            "execution_count": null,
            "metadata": {},
            "outputs": [],
            "source": "from vclibpy import Inputs\nprint(Inputs())\n"
        },
        {
            "cell_type": "markdown",
            "metadata": {},
            "source": "Currently, the flowsheets need all of these parameters, except for\nthe ambient temperature. This is only required for heat loss estimations or\nefficiency calculations in certain models.\nHandling all the inputs in one object makes it easy for component models\nto access any relevant data it needs. Also, you can add new inputs\nas you like. For instance, let's say you want to control the pressure\nlevel ratio, at which vapor is injected in the vapor-injection flowsheets.\nHere, the flowsheets can act on the input `k_vapor_injection`. The default is 1.\nYou can set custom inputs like this:\n"
        },
        {
            "cell_type": "code",
            "execution_count": null,
            "metadata": {},
            "outputs": [],
            "source": "inputs = Inputs()\ninputs.set(name=\"k_vapor_injection\", value=1.05)\nprint(inputs)\n"
        },
        {
            "cell_type": "markdown",
            "metadata": {},
            "source": "Optional arguments of the `set` function are unit and description.\nYou should pass those along with the name and value to make\nyour results easier to analyze, for others and your future self:\n"
        },
        {
            "cell_type": "code",
            "execution_count": null,
            "metadata": {},
            "outputs": [],
            "source": "inputs.set(\n    name=\"k_vapor_injection\", value=1.05,\n    unit=\"-\",\n    description=\"Calculates the injection pressure level according to \"\n                \"k_vapor_injection * np.sqrt(p_1 * p_2)\"\n)\n"
        },
        {
            "cell_type": "markdown",
            "metadata": {},
            "source": "The `set` function registers a Variable in the `inputs` object.\nYou can get different information types like this:\n"
        },
        {
            "cell_type": "code",
            "execution_count": null,
            "metadata": {},
            "outputs": [],
            "source": "print(f\"{inputs.get_variables()=}\")\nprint(f\"{inputs.get_variable_names()=}\")\nprint(f\"{inputs.get(name='k_vapor_injection')=}\")\nprint(f\"{inputs.items()=}\")  # To loop over the variable dict.\n"
        },
        {
            "cell_type": "markdown",
            "metadata": {},
            "source": "## FlowsheetState\nThe class `FlowsheetState` is essentially the same as `Inputs`.\nThe only difference is its use, which is for outputs of the vapor\ncompression cycle like COP, heat flow rate, temperatures, etc.\nBasically, anything a users might be interested in analyzing when\nsimulating a steady state vapor compression cycle.\nAs the outputs are flowsheet specific, we define no default\nVariables in the `FlowsheetState` as with `Inputs`.\nHowever, you can set variables the same way as with `Inputs`:\n"
        },
        {
            "cell_type": "code",
            "execution_count": null,
            "metadata": {},
            "outputs": [],
            "source": "from vclibpy import FlowsheetState\nfs_state = FlowsheetState()\nprint(fs_state)\nfs_state.set(name=\"some_interesting_output\", value=3.14,\n             unit=\"-\", description=\"This is just an example\")\nprint(fs_state)\n"
        },
        {
            "cell_type": "markdown",
            "metadata": {},
            "source": "As the fs_state is passed to all components, it's important to\nuse distinct names. If two components set a variable `T_1`, the latter\none will override the first one.\nAs the `fs_state` and `inputs` are mutable, no history is preserved.\nIf you want to, for example, plot the history of the `fs_state`,\nyou have to store copies of the instance:\n"
        },
        {
            "cell_type": "code",
            "execution_count": null,
            "metadata": {},
            "outputs": [],
            "source": "fs_states = []\nfor some_value in range(10):\n    fs_state.set(name=\"some_interesting_output\", value=some_value)\n    fs_states.append(fs_state.copy())\nprint([fs_state.get(\"some_interesting_output\").value for fs_state in fs_states])\n"
        },
        {
            "cell_type": "markdown",
            "metadata": {},
            "source": "Without the copy, it would not work:\n"
        },
        {
            "cell_type": "code",
            "execution_count": null,
            "metadata": {},
            "outputs": [],
            "source": "fs_states = []\nfor some_value in range(10):\n    fs_state.set(name=\"some_interesting_output\", value=some_value)\n    fs_states.append(fs_state)\nprint([fs_state.get(\"some_interesting_output\").value for fs_state in fs_states])\n"
        }
    ],
    "metadata": {
        "kernelspec": {
            "display_name": "Python 3",
            "language": "python",
            "name": "python3"
        },
        "language_info": {
            "codemirror_mode": {
                "name": "ipython",
                "version": 3
            },
            "file_extension": ".py",
            "mimetype": "text/x-python",
            "name": "python",
            "nbconvert_exporter": "python",
            "pygments_lexer": "ipython3",
            "version": "3.6.4"
        }
    },
    "nbformat": 4,
    "nbformat_minor": 2
}