{
    "cells": [
        {
            "cell_type": "markdown",
            "metadata": {},
            "source": "# Expansion Valve Example\nThis example demonstrates how to use the classes `ExpansionValve`,\nand its children.\n"
        },
        {
            "cell_type": "markdown",
            "metadata": {},
            "source": "First, let's import an exemplary valve from vclibpy's\n`expansion_valve` package. The only one currently implemented\nis Bernoulli:\n"
        },
        {
            "cell_type": "code",
            "execution_count": null,
            "metadata": {},
            "outputs": [],
            "source": "from vclibpy.components.expansion_valves import Bernoulli\n"
        },
        {
            "cell_type": "markdown",
            "metadata": {},
            "source": "The valves are not that important for the vapor compression simulation,\nas we iterate the pressure levels directly. However, you can still check\nif a given valve cross-section area is large enough for your required level of\nsuperheat.\n"
        },
        {
            "cell_type": "code",
            "execution_count": null,
            "metadata": {},
            "outputs": [],
            "source": "help(Bernoulli)\n"
        },
        {
            "cell_type": "markdown",
            "metadata": {},
            "source": "Let's specify some dummy parameters:\n"
        },
        {
            "cell_type": "code",
            "execution_count": null,
            "metadata": {},
            "outputs": [],
            "source": "d = 5e-3  # 5 mm diameter\narea = 3.14 * d ** 2 / 4\nexpansion_valve = Bernoulli(A=area)\n"
        },
        {
            "cell_type": "markdown",
            "metadata": {},
            "source": "Again, we have to start a med-prop, and give some input state:\n"
        },
        {
            "cell_type": "code",
            "execution_count": null,
            "metadata": {},
            "outputs": [],
            "source": "from vclibpy.media import CoolProp\nmed_prop = CoolProp(fluid_name=\"Propane\")\nexpansion_valve.med_prop = med_prop\n"
        },
        {
            "cell_type": "markdown",
            "metadata": {},
            "source": "Let's use the inlet state as in the last example\nAlso, we will use the evaporation pressure level:\n"
        },
        {
            "cell_type": "code",
            "execution_count": null,
            "metadata": {},
            "outputs": [],
            "source": "state_condenser_outlet = med_prop.calc_state(\"TQ\", 273.15 + 40, 0)\nexpansion_valve.state_inlet = state_condenser_outlet\np_evaporation = 3.149034617014494 * 1e5\n"
        },
        {
            "cell_type": "markdown",
            "metadata": {},
            "source": "Now, we can calculate the outlet:\n"
        },
        {
            "cell_type": "code",
            "execution_count": null,
            "metadata": {},
            "outputs": [],
            "source": "expansion_valve.calc_outlet(p_outlet=p_evaporation)\n"
        },
        {
            "cell_type": "markdown",
            "metadata": {},
            "source": "Note that the outlet has the same enthalpy as the inlet:\n"
        },
        {
            "cell_type": "code",
            "execution_count": null,
            "metadata": {},
            "outputs": [],
            "source": "print(f\"{expansion_valve.state_inlet.h=}; {expansion_valve.state_outlet.h=}\")\n"
        },
        {
            "cell_type": "markdown",
            "metadata": {},
            "source": "## Valve opening:\nLet's assume we want to match the mass flow rate of the last example:\nWhat opening would we require for the given cross section area?\nFor this, we can use expansion_valve.ca\n"
        },
        {
            "cell_type": "code",
            "execution_count": null,
            "metadata": {},
            "outputs": [],
            "source": "m_flow_ref_goal = 0.01\nopening = expansion_valve.calc_opening_at_m_flow(m_flow=m_flow_ref_goal)\nprint(f\"Required opening: {opening}\")\n"
        },
        {
            "cell_type": "markdown",
            "metadata": {},
            "source": "Not that much. Now, we can repeat the process with different diameters in mm.\n"
        },
        {
            "cell_type": "code",
            "execution_count": null,
            "metadata": {},
            "outputs": [],
            "source": "import numpy as np\nopenings = []\nd_mm_array = np.arange(0.5, 5, 0.5)\nfor d_mm in d_mm_array:\n    expansion_valve.A = 3.14 * (d_mm * 1e-3) ** 2 / 4\n    opening = expansion_valve.calc_opening_at_m_flow(m_flow=m_flow_ref_goal)\n    print(f\"Required opening for area={expansion_valve.A}: {opening * 100} %\")\n    openings.append(opening * 100)\n"
        },
        {
            "cell_type": "markdown",
            "metadata": {},
            "source": "Let's plot the result:\n"
        },
        {
            "cell_type": "code",
            "execution_count": null,
            "metadata": {},
            "outputs": [],
            "source": "import matplotlib.pyplot as plt\nplt.plot(d_mm_array, openings, marker=\"s\")\nplt.ylabel(\"Opening in %\")\nplt.xlabel(\"$d$ in mm\")\nplt.show()\n"
        },
        {
            "cell_type": "markdown",
            "metadata": {},
            "source": "Looking only at this point, the diameter should not be smaller than 1 mm.\nYou can tweak the assumptions around, check for different mass flow rates\nor different pressure levels.\n"
        }
    ],
    "metadata": {
        "kernelspec": {
            "display_name": "Python 3",
            "language": "python",
            "name": "python3"
        },
        "language_info": {
            "codemirror_mode": {
                "name": "ipython",
                "version": 3
            },
            "file_extension": ".py",
            "mimetype": "text/x-python",
            "name": "python",
            "nbconvert_exporter": "python",
            "pygments_lexer": "ipython3",
            "version": "3.6.4"
        }
    },
    "nbformat": 4,
    "nbformat_minor": 2
}