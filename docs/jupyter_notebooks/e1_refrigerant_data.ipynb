{
    "cells": [
        {
            "cell_type": "markdown",
            "metadata": {},
            "source": "# Refrigerant Data Example\nThis example demonstrates how to use the classes `MedProp` (and its children),\n`ThermodynamicState`, and `TransportProperties`.\nFurther, basic plotting is shown using this data.\n"
        },
        {
            "cell_type": "markdown",
            "metadata": {},
            "source": "First, let's import the important classes from vclibpy's\n`media` module:\n"
        },
        {
            "cell_type": "code",
            "execution_count": null,
            "metadata": {},
            "outputs": [],
            "source": "from vclibpy.media import CoolProp, ThermodynamicState, TransportProperties\n"
        },
        {
            "cell_type": "markdown",
            "metadata": {},
            "source": "We have two media property classes, `CoolProp` and `RefProp`.\nThe latter requires a dll, which you have to purchase together with RefProp.\nThus, in this example, we will use `CoolProp`. Pass the `fluid_name` to\nselect the fluid you are going to use.\n"
        },
        {
            "cell_type": "code",
            "execution_count": null,
            "metadata": {},
            "outputs": [],
            "source": "cool_prop = CoolProp(fluid_name=\"Propane\")\n"
        },
        {
            "cell_type": "markdown",
            "metadata": {},
            "source": "## ThermodynamicState calculation\nLet's start and show how the media property classes work. You always\ncall `calc_state()`. The documentation explains how to use it:\n"
        },
        {
            "cell_type": "code",
            "execution_count": null,
            "metadata": {},
            "outputs": [],
            "source": "help(cool_prop.calc_state)\n"
        },
        {
            "cell_type": "markdown",
            "metadata": {},
            "source": "Let's try and start with pressure of 2 bar (2e5 Pa) and 100 kJ/kg enthalpy:\n"
        },
        {
            "cell_type": "code",
            "execution_count": null,
            "metadata": {},
            "outputs": [],
            "source": "state = cool_prop.calc_state(\"PH\", 2e5, 100e3)\n"
        },
        {
            "cell_type": "markdown",
            "metadata": {},
            "source": "The state is an instance of `ThermodynamicState`:\n"
        },
        {
            "cell_type": "code",
            "execution_count": null,
            "metadata": {},
            "outputs": [],
            "source": "print(type(state))\n"
        },
        {
            "cell_type": "markdown",
            "metadata": {},
            "source": "The state contains all important specific values:\n"
        },
        {
            "cell_type": "code",
            "execution_count": null,
            "metadata": {},
            "outputs": [],
            "source": "print(state.get_pretty_print())\n"
        },
        {
            "cell_type": "markdown",
            "metadata": {},
            "source": "For these values, we are outside of the two phase region, as q (quality) is -1.\nYou can play around with the possible options to get a better understanding.\n## TransportProperties calculation\nWith a given state, we can calculate the transport properties. Those include\nrelevant information for component models, e.g. heat conductivity.\nFor information on all properties, look at the documentation:\n"
        },
        {
            "cell_type": "code",
            "execution_count": null,
            "metadata": {},
            "outputs": [],
            "source": "help(cool_prop.calc_transport_properties)\n"
        },
        {
            "cell_type": "markdown",
            "metadata": {},
            "source": "You just have to pass a valid state:\n"
        },
        {
            "cell_type": "code",
            "execution_count": null,
            "metadata": {},
            "outputs": [],
            "source": "transport_properties = cool_prop.calc_transport_properties(state=state)\nprint(transport_properties.get_pretty_print())\n"
        },
        {
            "cell_type": "markdown",
            "metadata": {},
            "source": "## Plotting\nTo plot fluid data, we may plot the two phase limits.\nWhile we have the function `get_two_phase_limits` in the `media` model,\nwe will define it here again so that you can further learn how to use `media`.\nThe idea is to loop over all pressure from some minimum value.\nLet's use the pressure at -40 °C.\nto the maximum, which is the critical point.\nYou can get the critical point using the function: `get_critical_point`:\n"
        },
        {
            "cell_type": "code",
            "execution_count": null,
            "metadata": {},
            "outputs": [],
            "source": "p_min = cool_prop.calc_state(\"TQ\", 273.15 - 40, 0).p  # Pa\nT_crit, p_crit, d_crit = cool_prop.get_critical_point()\np_max = p_crit\n"
        },
        {
            "cell_type": "markdown",
            "metadata": {},
            "source": "Let's create two lists, q0 and q1 for states with quality of 0 and 1. Further,\nwe loop only each 10000 Pa to reduce number of function calls.\n"
        },
        {
            "cell_type": "code",
            "execution_count": null,
            "metadata": {},
            "outputs": [],
            "source": "p_step = 10000  # Pa\nq0 = []\nq1 = []\nfor p in range(int(p_min), int(p_max), p_step):\n    q0.append(cool_prop.calc_state(\"PQ\", p, 0))\n    q1.append(cool_prop.calc_state(\"PQ\", p, 1))\n"
        },
        {
            "cell_type": "markdown",
            "metadata": {},
            "source": "Now, we can plot these states, for example in a T-h Diagram.\nNote: [::-1] reverts the list, letting it start from the critical point.\n`[state.T for state in q0]` is a list comprehension, quite useful in Python.\n"
        },
        {
            "cell_type": "code",
            "execution_count": null,
            "metadata": {},
            "outputs": [],
            "source": "T = [state.T for state in q0 + q1[::-1]]\nh = [state.h for state in q0 + q1[::-1]]\nimport matplotlib.pyplot as plt\nplt.ylabel(\"$T$ in K\")\nplt.xlabel(\"$h$ in J/kg\")\nplt.plot(h, T, color=\"black\")\n"
        },
        {
            "cell_type": "markdown",
            "metadata": {},
            "source": "Now, without any component models, let's try to plot a closed vapor compression cycle:\nAssumptions:\n- No superheat nor subcooling\n- isobaric heat exchange\n- isentropic compression and expansion\n- 0 °C evaporation and 40 °C condensation temperature\n"
        },
        {
            "cell_type": "code",
            "execution_count": null,
            "metadata": {},
            "outputs": [],
            "source": "state_1 = cool_prop.calc_state(\"TQ\", 273.15, 1)\nstate_3 = cool_prop.calc_state(\"TQ\", 273.15 + 40, 0)\nstate_4 = cool_prop.calc_state(\"PH\", state_1.p, state_3.h)\nstate_2 = cool_prop.calc_state(\"PS\", state_3.p, state_1.s)\n"
        },
        {
            "cell_type": "markdown",
            "metadata": {},
            "source": "Now, let's plot them with some markers:\n"
        },
        {
            "cell_type": "code",
            "execution_count": null,
            "metadata": {},
            "outputs": [],
            "source": "plot_lines_h = [state_1.h, state_2.h, state_3.h, state_4.h, state_1.h]\nplot_lines_t = [state_1.T, state_2.T, state_3.T, state_4.T, state_1.T]\nplt.plot(plot_lines_h, plot_lines_t, marker=\"s\", color=\"red\")\nplt.show()\n"
        },
        {
            "cell_type": "markdown",
            "metadata": {},
            "source": "Try to use the skills you've learned in this example and tweak the assumptions\nand the plot format: Plot log(p)-h, T-s, or similar. Assume some level\nof superheat, non-isentropic compression etc.\n"
        },
        {
            "cell_type": "markdown",
            "metadata": {},
            "source": "After getting familiar with calling the refrigerant data module `media`, you will\nlearn how to use the `Compressor` classes in the next example.\n"
        }
    ],
    "metadata": {
        "kernelspec": {
            "display_name": "Python 3",
            "language": "python",
            "name": "python3"
        },
        "language_info": {
            "codemirror_mode": {
                "name": "ipython",
                "version": 3
            },
            "file_extension": ".py",
            "mimetype": "text/x-python",
            "name": "python",
            "nbconvert_exporter": "python",
            "pygments_lexer": "ipython3",
            "version": "3.6.4"
        }
    },
    "nbformat": 4,
    "nbformat_minor": 2
}